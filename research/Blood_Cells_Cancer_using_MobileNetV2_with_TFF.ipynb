{
  "nbformat": 4,
  "nbformat_minor": 0,
  "metadata": {
    "colab": {
      "provenance": [],
      "gpuType": "T4"
    },
    "kernelspec": {
      "name": "python3",
      "display_name": "Python 3"
    },
    "language_info": {
      "name": "python"
    },
    "accelerator": "GPU"
  },
  "cells": [
    {
      "cell_type": "markdown",
      "source": [
        "# Blood cells cancer using MobileNetV2 (with transfer learning) in a Federated Learning context"
      ],
      "metadata": {
        "id": "ijbqnY4jgUKd"
      }
    },
    {
      "cell_type": "markdown",
      "source": [
        "## Install and test Tensorflow Federated\n",
        "---\n",
        "\n",
        "⚠ **Please restart runtime after installing tensorflow**\n",
        "\n",
        "---"
      ],
      "metadata": {
        "id": "5PXnqz4_Zd80"
      }
    },
    {
      "cell_type": "code",
      "source": [
        "# !pip install --quiet --upgrade tensorflow-federated"
      ],
      "metadata": {
        "id": "JFZwq8i-ZtKs"
      },
      "execution_count": null,
      "outputs": []
    },
    {
      "cell_type": "markdown",
      "source": [
        "Test tensorflow federated\n"
      ],
      "metadata": {
        "id": "eD9uVz6-aXxj"
      }
    },
    {
      "cell_type": "code",
      "source": [
        "import collections\n",
        "\n",
        "import numpy as np\n",
        "import tensorflow as tf\n",
        "import tensorflow_federated as tff\n",
        "\n",
        "np.random.seed(0)\n",
        "\n",
        "tff.federated_computation(lambda: 'Hello, World!')()"
      ],
      "metadata": {
        "colab": {
          "base_uri": "https://localhost:8080/"
        },
        "id": "v0XrISe3bZmG",
        "outputId": "fccdfe8e-3f42-4c86-cf59-577ede9c501f"
      },
      "execution_count": null,
      "outputs": [
        {
          "output_type": "execute_result",
          "data": {
            "text/plain": [
              "b'Hello, World!'"
            ]
          },
          "metadata": {},
          "execution_count": 2
        }
      ]
    },
    {
      "cell_type": "markdown",
      "source": [
        "Load tensorboard"
      ],
      "metadata": {
        "id": "AeOq9sxqbjQh"
      }
    },
    {
      "cell_type": "code",
      "source": [
        "%load_ext tensorboard"
      ],
      "metadata": {
        "id": "eofevE5Bbmkz"
      },
      "execution_count": null,
      "outputs": []
    },
    {
      "cell_type": "markdown",
      "source": [
        "## Download dataset from Kaggle"
      ],
      "metadata": {
        "id": "MZ-KaCNNgjCj"
      }
    },
    {
      "cell_type": "code",
      "execution_count": null,
      "metadata": {
        "id": "LHtvUekffhqJ"
      },
      "outputs": [],
      "source": [
        "! pip install -q kaggle"
      ]
    },
    {
      "cell_type": "code",
      "source": [
        "from google.colab import files\n",
        "\n",
        "files.upload()"
      ],
      "metadata": {
        "colab": {
          "base_uri": "https://localhost:8080/",
          "height": 86
        },
        "id": "ZFi8bV3Dgtcc",
        "outputId": "294cd9d7-ff67-4c23-8c3c-dd07fe07598e"
      },
      "execution_count": null,
      "outputs": [
        {
          "output_type": "display_data",
          "data": {
            "text/plain": [
              "<IPython.core.display.HTML object>"
            ],
            "text/html": [
              "\n",
              "     <input type=\"file\" id=\"files-369e2c7f-7a28-49cd-a73e-1c7b7d4cb1e2\" name=\"files[]\" multiple disabled\n",
              "        style=\"border:none\" />\n",
              "     <output id=\"result-369e2c7f-7a28-49cd-a73e-1c7b7d4cb1e2\">\n",
              "      Upload widget is only available when the cell has been executed in the\n",
              "      current browser session. Please rerun this cell to enable.\n",
              "      </output>\n",
              "      <script>// Copyright 2017 Google LLC\n",
              "//\n",
              "// Licensed under the Apache License, Version 2.0 (the \"License\");\n",
              "// you may not use this file except in compliance with the License.\n",
              "// You may obtain a copy of the License at\n",
              "//\n",
              "//      http://www.apache.org/licenses/LICENSE-2.0\n",
              "//\n",
              "// Unless required by applicable law or agreed to in writing, software\n",
              "// distributed under the License is distributed on an \"AS IS\" BASIS,\n",
              "// WITHOUT WARRANTIES OR CONDITIONS OF ANY KIND, either express or implied.\n",
              "// See the License for the specific language governing permissions and\n",
              "// limitations under the License.\n",
              "\n",
              "/**\n",
              " * @fileoverview Helpers for google.colab Python module.\n",
              " */\n",
              "(function(scope) {\n",
              "function span(text, styleAttributes = {}) {\n",
              "  const element = document.createElement('span');\n",
              "  element.textContent = text;\n",
              "  for (const key of Object.keys(styleAttributes)) {\n",
              "    element.style[key] = styleAttributes[key];\n",
              "  }\n",
              "  return element;\n",
              "}\n",
              "\n",
              "// Max number of bytes which will be uploaded at a time.\n",
              "const MAX_PAYLOAD_SIZE = 100 * 1024;\n",
              "\n",
              "function _uploadFiles(inputId, outputId) {\n",
              "  const steps = uploadFilesStep(inputId, outputId);\n",
              "  const outputElement = document.getElementById(outputId);\n",
              "  // Cache steps on the outputElement to make it available for the next call\n",
              "  // to uploadFilesContinue from Python.\n",
              "  outputElement.steps = steps;\n",
              "\n",
              "  return _uploadFilesContinue(outputId);\n",
              "}\n",
              "\n",
              "// This is roughly an async generator (not supported in the browser yet),\n",
              "// where there are multiple asynchronous steps and the Python side is going\n",
              "// to poll for completion of each step.\n",
              "// This uses a Promise to block the python side on completion of each step,\n",
              "// then passes the result of the previous step as the input to the next step.\n",
              "function _uploadFilesContinue(outputId) {\n",
              "  const outputElement = document.getElementById(outputId);\n",
              "  const steps = outputElement.steps;\n",
              "\n",
              "  const next = steps.next(outputElement.lastPromiseValue);\n",
              "  return Promise.resolve(next.value.promise).then((value) => {\n",
              "    // Cache the last promise value to make it available to the next\n",
              "    // step of the generator.\n",
              "    outputElement.lastPromiseValue = value;\n",
              "    return next.value.response;\n",
              "  });\n",
              "}\n",
              "\n",
              "/**\n",
              " * Generator function which is called between each async step of the upload\n",
              " * process.\n",
              " * @param {string} inputId Element ID of the input file picker element.\n",
              " * @param {string} outputId Element ID of the output display.\n",
              " * @return {!Iterable<!Object>} Iterable of next steps.\n",
              " */\n",
              "function* uploadFilesStep(inputId, outputId) {\n",
              "  const inputElement = document.getElementById(inputId);\n",
              "  inputElement.disabled = false;\n",
              "\n",
              "  const outputElement = document.getElementById(outputId);\n",
              "  outputElement.innerHTML = '';\n",
              "\n",
              "  const pickedPromise = new Promise((resolve) => {\n",
              "    inputElement.addEventListener('change', (e) => {\n",
              "      resolve(e.target.files);\n",
              "    });\n",
              "  });\n",
              "\n",
              "  const cancel = document.createElement('button');\n",
              "  inputElement.parentElement.appendChild(cancel);\n",
              "  cancel.textContent = 'Cancel upload';\n",
              "  const cancelPromise = new Promise((resolve) => {\n",
              "    cancel.onclick = () => {\n",
              "      resolve(null);\n",
              "    };\n",
              "  });\n",
              "\n",
              "  // Wait for the user to pick the files.\n",
              "  const files = yield {\n",
              "    promise: Promise.race([pickedPromise, cancelPromise]),\n",
              "    response: {\n",
              "      action: 'starting',\n",
              "    }\n",
              "  };\n",
              "\n",
              "  cancel.remove();\n",
              "\n",
              "  // Disable the input element since further picks are not allowed.\n",
              "  inputElement.disabled = true;\n",
              "\n",
              "  if (!files) {\n",
              "    return {\n",
              "      response: {\n",
              "        action: 'complete',\n",
              "      }\n",
              "    };\n",
              "  }\n",
              "\n",
              "  for (const file of files) {\n",
              "    const li = document.createElement('li');\n",
              "    li.append(span(file.name, {fontWeight: 'bold'}));\n",
              "    li.append(span(\n",
              "        `(${file.type || 'n/a'}) - ${file.size} bytes, ` +\n",
              "        `last modified: ${\n",
              "            file.lastModifiedDate ? file.lastModifiedDate.toLocaleDateString() :\n",
              "                                    'n/a'} - `));\n",
              "    const percent = span('0% done');\n",
              "    li.appendChild(percent);\n",
              "\n",
              "    outputElement.appendChild(li);\n",
              "\n",
              "    const fileDataPromise = new Promise((resolve) => {\n",
              "      const reader = new FileReader();\n",
              "      reader.onload = (e) => {\n",
              "        resolve(e.target.result);\n",
              "      };\n",
              "      reader.readAsArrayBuffer(file);\n",
              "    });\n",
              "    // Wait for the data to be ready.\n",
              "    let fileData = yield {\n",
              "      promise: fileDataPromise,\n",
              "      response: {\n",
              "        action: 'continue',\n",
              "      }\n",
              "    };\n",
              "\n",
              "    // Use a chunked sending to avoid message size limits. See b/62115660.\n",
              "    let position = 0;\n",
              "    do {\n",
              "      const length = Math.min(fileData.byteLength - position, MAX_PAYLOAD_SIZE);\n",
              "      const chunk = new Uint8Array(fileData, position, length);\n",
              "      position += length;\n",
              "\n",
              "      const base64 = btoa(String.fromCharCode.apply(null, chunk));\n",
              "      yield {\n",
              "        response: {\n",
              "          action: 'append',\n",
              "          file: file.name,\n",
              "          data: base64,\n",
              "        },\n",
              "      };\n",
              "\n",
              "      let percentDone = fileData.byteLength === 0 ?\n",
              "          100 :\n",
              "          Math.round((position / fileData.byteLength) * 100);\n",
              "      percent.textContent = `${percentDone}% done`;\n",
              "\n",
              "    } while (position < fileData.byteLength);\n",
              "  }\n",
              "\n",
              "  // All done.\n",
              "  yield {\n",
              "    response: {\n",
              "      action: 'complete',\n",
              "    }\n",
              "  };\n",
              "}\n",
              "\n",
              "scope.google = scope.google || {};\n",
              "scope.google.colab = scope.google.colab || {};\n",
              "scope.google.colab._files = {\n",
              "  _uploadFiles,\n",
              "  _uploadFilesContinue,\n",
              "};\n",
              "})(self);\n",
              "</script> "
            ]
          },
          "metadata": {}
        },
        {
          "output_type": "stream",
          "name": "stdout",
          "text": [
            "Saving kaggle.json to kaggle.json\n"
          ]
        },
        {
          "output_type": "execute_result",
          "data": {
            "text/plain": [
              "{'kaggle.json': b'{\"username\":\"andreiovidiumuntean\",\"key\":\"589cc73e5a2e1d3c6be2ea858db432c7\"}'}"
            ]
          },
          "metadata": {},
          "execution_count": 5
        }
      ]
    },
    {
      "cell_type": "code",
      "source": [
        "! mkdir ~/.kaggle\n",
        "! cp kaggle.json ~/.kaggle/\n",
        "! chmod 600 ~/.kaggle/kaggle.json"
      ],
      "metadata": {
        "id": "2wuI996ihC3A"
      },
      "execution_count": null,
      "outputs": []
    },
    {
      "cell_type": "code",
      "source": [
        "!kaggle datasets download -d mohammadamireshraghi/blood-cell-cancer-all-4class"
      ],
      "metadata": {
        "colab": {
          "base_uri": "https://localhost:8080/"
        },
        "id": "lag-wsJKhGia",
        "outputId": "be04c29e-96ea-4c39-c405-a0da79d104fc"
      },
      "execution_count": null,
      "outputs": [
        {
          "output_type": "stream",
          "name": "stdout",
          "text": [
            "Downloading blood-cell-cancer-all-4class.zip to /content\n",
            "100% 1.68G/1.68G [01:24<00:00, 21.8MB/s]\n",
            "100% 1.68G/1.68G [01:24<00:00, 21.4MB/s]\n"
          ]
        }
      ]
    },
    {
      "cell_type": "code",
      "source": [
        "! unzip -q blood-cell-cancer-all-4class.zip"
      ],
      "metadata": {
        "id": "Uy4lO4TBh83w"
      },
      "execution_count": null,
      "outputs": []
    },
    {
      "cell_type": "markdown",
      "source": [],
      "metadata": {
        "id": "yKuVPWxvgPnV"
      }
    },
    {
      "cell_type": "code",
      "source": [
        "# Remove spaces from folder names\n",
        "! mv \"Blood cell Cancer [ALL]\" dataset\n",
        "! mv dataset/\"[Malignant] Pre-B\" dataset/pre_b\n",
        "! mv dataset/\"[Malignant] Pro-B\" dataset/pro_b\n",
        "! mv dataset/\"[Malignant] early Pre-B\" dataset/early_pre_b\n",
        "! mv dataset/\"Benign\" dataset/benign"
      ],
      "metadata": {
        "id": "TP-mL6fFjBs-"
      },
      "execution_count": null,
      "outputs": []
    },
    {
      "cell_type": "markdown",
      "source": [
        "## Imports"
      ],
      "metadata": {
        "id": "-qq-nLnRwh3c"
      }
    },
    {
      "cell_type": "code",
      "source": [
        "from imutils import paths\n",
        "import os\n",
        "import numpy as np\n",
        "import random\n",
        "import pandas as pd\n",
        "from sklearn.model_selection import train_test_split\n",
        "\n",
        "import cv2\n",
        "from sklearn.cluster import KMeans\n",
        "import matplotlib.pyplot as plt\n",
        "from scipy import ndimage as ndi\n",
        "from skimage import morphology\n",
        "import time\n",
        "\n",
        "import keras,math\n",
        "from keras.applications.inception_v3 import InceptionV3\n",
        "from keras.layers import GlobalAveragePooling2D,BatchNormalization\n",
        "from keras.layers import Dense,Dropout\n",
        "from keras.models import Model\n",
        "\n",
        "import tensorflow as tf\n",
        "from tensorflow.keras.applications import DenseNet201\n",
        "from tensorflow.keras.optimizers import Adam\n",
        "from tensorflow.keras.optimizers.schedules import ExponentialDecay\n",
        "from tensorflow.keras.preprocessing.image import ImageDataGenerator\n",
        "from tensorflow.keras.preprocessing.image import ImageDataGenerator\n",
        "from tensorflow.keras import regularizers\n",
        "\n",
        "import tensorflow as tf\n",
        "from sklearn.metrics import mean_absolute_error,mean_squared_error\n",
        "from sklearn import metrics"
      ],
      "metadata": {
        "id": "St0vBvyrwjn-"
      },
      "execution_count": null,
      "outputs": []
    },
    {
      "cell_type": "markdown",
      "source": [
        "## Preparing the dataset"
      ],
      "metadata": {
        "id": "ydHgGmcTk7da"
      }
    },
    {
      "cell_type": "code",
      "source": [
        "data_dir  = 'dataset'\n",
        "data_list = sorted(list(paths.list_images(data_dir)))\n",
        "\n",
        "random.seed(88)\n",
        "random.shuffle(data_list)\n",
        "\n",
        "data_list = data_list[:1000]\n",
        "\n",
        "train_list, test_list = train_test_split(data_list, train_size=0.90, shuffle=True, random_state=88)\n",
        "\n",
        "print('number of testing list:',len(test_list))\n",
        "print('number of training list (for all clients):',len(train_list))"
      ],
      "metadata": {
        "colab": {
          "base_uri": "https://localhost:8080/"
        },
        "id": "AoMuJvTUwXhd",
        "outputId": "8e72ef96-2316-4f45-8f20-0be1b819ab61"
      },
      "execution_count": null,
      "outputs": [
        {
          "output_type": "stream",
          "name": "stdout",
          "text": [
            "number of testing list: 100\n",
            "number of training list (for all clients): 900\n"
          ]
        }
      ]
    },
    {
      "cell_type": "markdown",
      "source": [
        "## Split the original training data into NUM_CLIENTS parts acording to DATA_PER_CLIENT_PERCENTAGE"
      ],
      "metadata": {
        "id": "GQvOj_Uvj51a"
      }
    },
    {
      "cell_type": "code",
      "source": [
        "DATA_PER_CLIENT_PERCENTAGE = [0.5, 0.5]\n",
        "NUM_CLIENTS = len(DATA_PER_CLIENT_PERCENTAGE)\n",
        "\n",
        "def split_list_with_percentages(original_list, percentages):\n",
        "    list_copy = original_list.copy() # this list will be destryied\n",
        "    total_size = len(list_copy)\n",
        "    split_sizes = [int(percentage * total_size) for percentage in percentages]\n",
        "\n",
        "    splits = []\n",
        "\n",
        "    for size in split_sizes:\n",
        "        splits.append(list_copy[:size])\n",
        "        list_copy = list_copy[size:]\n",
        "\n",
        "    splits[-1].extend(list_copy)\n",
        "\n",
        "    return splits\n",
        "\n",
        "# Split the list\n",
        "clients_data = split_list_with_percentages(train_list, DATA_PER_CLIENT_PERCENTAGE)\n",
        "\n",
        "print(\"Number of samples for each client:\")\n",
        "for idx, client_data in enumerate(clients_data):\n",
        "  print(f\"Client {idx} | num_training_samples: {len(client_data)} | 1st sample: {client_data[0]}\")\n"
      ],
      "metadata": {
        "colab": {
          "base_uri": "https://localhost:8080/"
        },
        "id": "KtVBjJ5ifC8Y",
        "outputId": "7378e2ae-4f2d-4163-8d51-e0971ca7a947"
      },
      "execution_count": null,
      "outputs": [
        {
          "output_type": "stream",
          "name": "stdout",
          "text": [
            "Number of samples for each client:\n",
            "Client 0 | num_training_samples: 450 | 1st sample: dataset/early_pre_b/Snap_206.jpg\n",
            "Client 1 | num_training_samples: 450 | 1st sample: dataset/pro_b/Snap_093.jpg\n"
          ]
        }
      ]
    },
    {
      "cell_type": "code",
      "source": [
        "def preprocess_train_data_for_client(client_id: int, paths):\n",
        "  for idx, path in enumerate(paths):\n",
        "    img = cv2.imread(path)\n",
        "    img = cv2.resize(img,(224,224))\n",
        "    label = path.split(os.path.sep)[1]\n",
        "    client_dir = os.path.join(\"tmp\", \"train\", f\"{client_id}\", label)\n",
        "    os.makedirs(client_dir, exist_ok=True)\n",
        "    filename = os.path.join(client_dir, f\"{label}_{idx}.png\")\n",
        "    cv2.imwrite(filename, img)\n",
        "\n",
        "for client_id in range(NUM_CLIENTS):\n",
        "  preprocess_train_data_for_client(client_id, clients_data[client_id])"
      ],
      "metadata": {
        "id": "OkC7XIH0n0u6"
      },
      "execution_count": null,
      "outputs": []
    },
    {
      "cell_type": "code",
      "source": [
        "def preprocess_test_data(paths):\n",
        "  for idx, path in enumerate(paths):\n",
        "    i= cv2.imread(path)\n",
        "    i= cv2.resize(i,(224,224))\n",
        "    label = path.split(os.path.sep)[1]\n",
        "    dir = os.path.join(\"tmp\", \"test\", f\"{label}\")\n",
        "    os.makedirs(dir, exist_ok=True)\n",
        "    b = os.path.join(dir, f\"{label}_{str(idx)}.png\")\n",
        "    cv2.imwrite(b, i)\n",
        "\n",
        "preprocess_test_data(test_list)"
      ],
      "metadata": {
        "id": "O_QDWHNpw7uq"
      },
      "execution_count": null,
      "outputs": []
    },
    {
      "cell_type": "markdown",
      "source": [
        "## Create dataframe with file path and label (for test/train)"
      ],
      "metadata": {
        "id": "jW5PysVF2vYS"
      }
    },
    {
      "cell_type": "code",
      "source": [
        "def convert_label_to_int(label: str):\n",
        "  dict = {\"benign\" : 0, \"early_pre_b\": 1, \"pre_b\": 2, \"pro_b\": 3}\n",
        "  return dict[label]\n",
        "\n",
        "def load_data(directory_path):\n",
        "    filenames = sorted(list(paths.list_images(directory_path)))\n",
        "    random.shuffle(filenames)\n",
        "    labels = [convert_label_to_int(os.path.basename(os.path.dirname(filename))) for filename in filenames]\n",
        "    return pd.DataFrame({'filenames': filenames, 'labels': labels})"
      ],
      "metadata": {
        "id": "Lz9JbToXw8bt"
      },
      "execution_count": null,
      "outputs": []
    },
    {
      "cell_type": "code",
      "source": [
        "# this is an array of dataframes containing data for each client\n",
        "clients_dfs = [load_data(f\"tmp/train/{client_id}\") for client_id in range(NUM_CLIENTS)]\n",
        "\n",
        "clients_dfs[0].head(30)"
      ],
      "metadata": {
        "colab": {
          "base_uri": "https://localhost:8080/",
          "height": 979
        },
        "id": "ALEvdEMx0cV6",
        "outputId": "aa99ce4c-32ae-41bd-885f-f16f814a994b"
      },
      "execution_count": null,
      "outputs": [
        {
          "output_type": "execute_result",
          "data": {
            "text/plain": [
              "                                      filenames  labels\n",
              "0              tmp/train/0/benign/benign_17.png       0\n",
              "1   tmp/train/0/early_pre_b/early_pre_b_192.png       1\n",
              "2   tmp/train/0/early_pre_b/early_pre_b_303.png       1\n",
              "3                tmp/train/0/pro_b/pro_b_32.png       3\n",
              "4             tmp/train/0/benign/benign_161.png       0\n",
              "5               tmp/train/0/pre_b/pre_b_120.png       2\n",
              "6   tmp/train/0/early_pre_b/early_pre_b_326.png       1\n",
              "7               tmp/train/0/pre_b/pre_b_233.png       2\n",
              "8   tmp/train/0/early_pre_b/early_pre_b_225.png       1\n",
              "9               tmp/train/0/pro_b/pro_b_419.png       3\n",
              "10  tmp/train/0/early_pre_b/early_pre_b_137.png       1\n",
              "11  tmp/train/0/early_pre_b/early_pre_b_376.png       1\n",
              "12              tmp/train/0/pro_b/pro_b_367.png       3\n",
              "13               tmp/train/0/pre_b/pre_b_31.png       2\n",
              "14                tmp/train/0/pre_b/pre_b_1.png       2\n",
              "15               tmp/train/0/pro_b/pro_b_20.png       3\n",
              "16  tmp/train/0/early_pre_b/early_pre_b_361.png       1\n",
              "17             tmp/train/0/benign/benign_34.png       0\n",
              "18            tmp/train/0/benign/benign_344.png       0\n",
              "19              tmp/train/0/pre_b/pre_b_196.png       2\n",
              "20  tmp/train/0/early_pre_b/early_pre_b_185.png       1\n",
              "21             tmp/train/0/benign/benign_14.png       0\n",
              "22              tmp/train/0/pro_b/pro_b_127.png       3\n",
              "23   tmp/train/0/early_pre_b/early_pre_b_25.png       1\n",
              "24            tmp/train/0/benign/benign_395.png       0\n",
              "25            tmp/train/0/benign/benign_433.png       0\n",
              "26            tmp/train/0/benign/benign_177.png       0\n",
              "27   tmp/train/0/early_pre_b/early_pre_b_23.png       1\n",
              "28  tmp/train/0/early_pre_b/early_pre_b_398.png       1\n",
              "29              tmp/train/0/pre_b/pre_b_407.png       2"
            ],
            "text/html": [
              "\n",
              "  <div id=\"df-17a5ac4a-6803-40cd-9d32-736354aad408\" class=\"colab-df-container\">\n",
              "    <div>\n",
              "<style scoped>\n",
              "    .dataframe tbody tr th:only-of-type {\n",
              "        vertical-align: middle;\n",
              "    }\n",
              "\n",
              "    .dataframe tbody tr th {\n",
              "        vertical-align: top;\n",
              "    }\n",
              "\n",
              "    .dataframe thead th {\n",
              "        text-align: right;\n",
              "    }\n",
              "</style>\n",
              "<table border=\"1\" class=\"dataframe\">\n",
              "  <thead>\n",
              "    <tr style=\"text-align: right;\">\n",
              "      <th></th>\n",
              "      <th>filenames</th>\n",
              "      <th>labels</th>\n",
              "    </tr>\n",
              "  </thead>\n",
              "  <tbody>\n",
              "    <tr>\n",
              "      <th>0</th>\n",
              "      <td>tmp/train/0/benign/benign_17.png</td>\n",
              "      <td>0</td>\n",
              "    </tr>\n",
              "    <tr>\n",
              "      <th>1</th>\n",
              "      <td>tmp/train/0/early_pre_b/early_pre_b_192.png</td>\n",
              "      <td>1</td>\n",
              "    </tr>\n",
              "    <tr>\n",
              "      <th>2</th>\n",
              "      <td>tmp/train/0/early_pre_b/early_pre_b_303.png</td>\n",
              "      <td>1</td>\n",
              "    </tr>\n",
              "    <tr>\n",
              "      <th>3</th>\n",
              "      <td>tmp/train/0/pro_b/pro_b_32.png</td>\n",
              "      <td>3</td>\n",
              "    </tr>\n",
              "    <tr>\n",
              "      <th>4</th>\n",
              "      <td>tmp/train/0/benign/benign_161.png</td>\n",
              "      <td>0</td>\n",
              "    </tr>\n",
              "    <tr>\n",
              "      <th>5</th>\n",
              "      <td>tmp/train/0/pre_b/pre_b_120.png</td>\n",
              "      <td>2</td>\n",
              "    </tr>\n",
              "    <tr>\n",
              "      <th>6</th>\n",
              "      <td>tmp/train/0/early_pre_b/early_pre_b_326.png</td>\n",
              "      <td>1</td>\n",
              "    </tr>\n",
              "    <tr>\n",
              "      <th>7</th>\n",
              "      <td>tmp/train/0/pre_b/pre_b_233.png</td>\n",
              "      <td>2</td>\n",
              "    </tr>\n",
              "    <tr>\n",
              "      <th>8</th>\n",
              "      <td>tmp/train/0/early_pre_b/early_pre_b_225.png</td>\n",
              "      <td>1</td>\n",
              "    </tr>\n",
              "    <tr>\n",
              "      <th>9</th>\n",
              "      <td>tmp/train/0/pro_b/pro_b_419.png</td>\n",
              "      <td>3</td>\n",
              "    </tr>\n",
              "    <tr>\n",
              "      <th>10</th>\n",
              "      <td>tmp/train/0/early_pre_b/early_pre_b_137.png</td>\n",
              "      <td>1</td>\n",
              "    </tr>\n",
              "    <tr>\n",
              "      <th>11</th>\n",
              "      <td>tmp/train/0/early_pre_b/early_pre_b_376.png</td>\n",
              "      <td>1</td>\n",
              "    </tr>\n",
              "    <tr>\n",
              "      <th>12</th>\n",
              "      <td>tmp/train/0/pro_b/pro_b_367.png</td>\n",
              "      <td>3</td>\n",
              "    </tr>\n",
              "    <tr>\n",
              "      <th>13</th>\n",
              "      <td>tmp/train/0/pre_b/pre_b_31.png</td>\n",
              "      <td>2</td>\n",
              "    </tr>\n",
              "    <tr>\n",
              "      <th>14</th>\n",
              "      <td>tmp/train/0/pre_b/pre_b_1.png</td>\n",
              "      <td>2</td>\n",
              "    </tr>\n",
              "    <tr>\n",
              "      <th>15</th>\n",
              "      <td>tmp/train/0/pro_b/pro_b_20.png</td>\n",
              "      <td>3</td>\n",
              "    </tr>\n",
              "    <tr>\n",
              "      <th>16</th>\n",
              "      <td>tmp/train/0/early_pre_b/early_pre_b_361.png</td>\n",
              "      <td>1</td>\n",
              "    </tr>\n",
              "    <tr>\n",
              "      <th>17</th>\n",
              "      <td>tmp/train/0/benign/benign_34.png</td>\n",
              "      <td>0</td>\n",
              "    </tr>\n",
              "    <tr>\n",
              "      <th>18</th>\n",
              "      <td>tmp/train/0/benign/benign_344.png</td>\n",
              "      <td>0</td>\n",
              "    </tr>\n",
              "    <tr>\n",
              "      <th>19</th>\n",
              "      <td>tmp/train/0/pre_b/pre_b_196.png</td>\n",
              "      <td>2</td>\n",
              "    </tr>\n",
              "    <tr>\n",
              "      <th>20</th>\n",
              "      <td>tmp/train/0/early_pre_b/early_pre_b_185.png</td>\n",
              "      <td>1</td>\n",
              "    </tr>\n",
              "    <tr>\n",
              "      <th>21</th>\n",
              "      <td>tmp/train/0/benign/benign_14.png</td>\n",
              "      <td>0</td>\n",
              "    </tr>\n",
              "    <tr>\n",
              "      <th>22</th>\n",
              "      <td>tmp/train/0/pro_b/pro_b_127.png</td>\n",
              "      <td>3</td>\n",
              "    </tr>\n",
              "    <tr>\n",
              "      <th>23</th>\n",
              "      <td>tmp/train/0/early_pre_b/early_pre_b_25.png</td>\n",
              "      <td>1</td>\n",
              "    </tr>\n",
              "    <tr>\n",
              "      <th>24</th>\n",
              "      <td>tmp/train/0/benign/benign_395.png</td>\n",
              "      <td>0</td>\n",
              "    </tr>\n",
              "    <tr>\n",
              "      <th>25</th>\n",
              "      <td>tmp/train/0/benign/benign_433.png</td>\n",
              "      <td>0</td>\n",
              "    </tr>\n",
              "    <tr>\n",
              "      <th>26</th>\n",
              "      <td>tmp/train/0/benign/benign_177.png</td>\n",
              "      <td>0</td>\n",
              "    </tr>\n",
              "    <tr>\n",
              "      <th>27</th>\n",
              "      <td>tmp/train/0/early_pre_b/early_pre_b_23.png</td>\n",
              "      <td>1</td>\n",
              "    </tr>\n",
              "    <tr>\n",
              "      <th>28</th>\n",
              "      <td>tmp/train/0/early_pre_b/early_pre_b_398.png</td>\n",
              "      <td>1</td>\n",
              "    </tr>\n",
              "    <tr>\n",
              "      <th>29</th>\n",
              "      <td>tmp/train/0/pre_b/pre_b_407.png</td>\n",
              "      <td>2</td>\n",
              "    </tr>\n",
              "  </tbody>\n",
              "</table>\n",
              "</div>\n",
              "    <div class=\"colab-df-buttons\">\n",
              "\n",
              "  <div class=\"colab-df-container\">\n",
              "    <button class=\"colab-df-convert\" onclick=\"convertToInteractive('df-17a5ac4a-6803-40cd-9d32-736354aad408')\"\n",
              "            title=\"Convert this dataframe to an interactive table.\"\n",
              "            style=\"display:none;\">\n",
              "\n",
              "  <svg xmlns=\"http://www.w3.org/2000/svg\" height=\"24px\" viewBox=\"0 -960 960 960\">\n",
              "    <path d=\"M120-120v-720h720v720H120Zm60-500h600v-160H180v160Zm220 220h160v-160H400v160Zm0 220h160v-160H400v160ZM180-400h160v-160H180v160Zm440 0h160v-160H620v160ZM180-180h160v-160H180v160Zm440 0h160v-160H620v160Z\"/>\n",
              "  </svg>\n",
              "    </button>\n",
              "\n",
              "  <style>\n",
              "    .colab-df-container {\n",
              "      display:flex;\n",
              "      gap: 12px;\n",
              "    }\n",
              "\n",
              "    .colab-df-convert {\n",
              "      background-color: #E8F0FE;\n",
              "      border: none;\n",
              "      border-radius: 50%;\n",
              "      cursor: pointer;\n",
              "      display: none;\n",
              "      fill: #1967D2;\n",
              "      height: 32px;\n",
              "      padding: 0 0 0 0;\n",
              "      width: 32px;\n",
              "    }\n",
              "\n",
              "    .colab-df-convert:hover {\n",
              "      background-color: #E2EBFA;\n",
              "      box-shadow: 0px 1px 2px rgba(60, 64, 67, 0.3), 0px 1px 3px 1px rgba(60, 64, 67, 0.15);\n",
              "      fill: #174EA6;\n",
              "    }\n",
              "\n",
              "    .colab-df-buttons div {\n",
              "      margin-bottom: 4px;\n",
              "    }\n",
              "\n",
              "    [theme=dark] .colab-df-convert {\n",
              "      background-color: #3B4455;\n",
              "      fill: #D2E3FC;\n",
              "    }\n",
              "\n",
              "    [theme=dark] .colab-df-convert:hover {\n",
              "      background-color: #434B5C;\n",
              "      box-shadow: 0px 1px 3px 1px rgba(0, 0, 0, 0.15);\n",
              "      filter: drop-shadow(0px 1px 2px rgba(0, 0, 0, 0.3));\n",
              "      fill: #FFFFFF;\n",
              "    }\n",
              "  </style>\n",
              "\n",
              "    <script>\n",
              "      const buttonEl =\n",
              "        document.querySelector('#df-17a5ac4a-6803-40cd-9d32-736354aad408 button.colab-df-convert');\n",
              "      buttonEl.style.display =\n",
              "        google.colab.kernel.accessAllowed ? 'block' : 'none';\n",
              "\n",
              "      async function convertToInteractive(key) {\n",
              "        const element = document.querySelector('#df-17a5ac4a-6803-40cd-9d32-736354aad408');\n",
              "        const dataTable =\n",
              "          await google.colab.kernel.invokeFunction('convertToInteractive',\n",
              "                                                    [key], {});\n",
              "        if (!dataTable) return;\n",
              "\n",
              "        const docLinkHtml = 'Like what you see? Visit the ' +\n",
              "          '<a target=\"_blank\" href=https://colab.research.google.com/notebooks/data_table.ipynb>data table notebook</a>'\n",
              "          + ' to learn more about interactive tables.';\n",
              "        element.innerHTML = '';\n",
              "        dataTable['output_type'] = 'display_data';\n",
              "        await google.colab.output.renderOutput(dataTable, element);\n",
              "        const docLink = document.createElement('div');\n",
              "        docLink.innerHTML = docLinkHtml;\n",
              "        element.appendChild(docLink);\n",
              "      }\n",
              "    </script>\n",
              "  </div>\n",
              "\n",
              "\n",
              "<div id=\"df-2c5c4436-bff2-47b8-8eeb-85cc7130b770\">\n",
              "  <button class=\"colab-df-quickchart\" onclick=\"quickchart('df-2c5c4436-bff2-47b8-8eeb-85cc7130b770')\"\n",
              "            title=\"Suggest charts.\"\n",
              "            style=\"display:none;\">\n",
              "\n",
              "<svg xmlns=\"http://www.w3.org/2000/svg\" height=\"24px\"viewBox=\"0 0 24 24\"\n",
              "     width=\"24px\">\n",
              "    <g>\n",
              "        <path d=\"M19 3H5c-1.1 0-2 .9-2 2v14c0 1.1.9 2 2 2h14c1.1 0 2-.9 2-2V5c0-1.1-.9-2-2-2zM9 17H7v-7h2v7zm4 0h-2V7h2v10zm4 0h-2v-4h2v4z\"/>\n",
              "    </g>\n",
              "</svg>\n",
              "  </button>\n",
              "\n",
              "<style>\n",
              "  .colab-df-quickchart {\n",
              "      --bg-color: #E8F0FE;\n",
              "      --fill-color: #1967D2;\n",
              "      --hover-bg-color: #E2EBFA;\n",
              "      --hover-fill-color: #174EA6;\n",
              "      --disabled-fill-color: #AAA;\n",
              "      --disabled-bg-color: #DDD;\n",
              "  }\n",
              "\n",
              "  [theme=dark] .colab-df-quickchart {\n",
              "      --bg-color: #3B4455;\n",
              "      --fill-color: #D2E3FC;\n",
              "      --hover-bg-color: #434B5C;\n",
              "      --hover-fill-color: #FFFFFF;\n",
              "      --disabled-bg-color: #3B4455;\n",
              "      --disabled-fill-color: #666;\n",
              "  }\n",
              "\n",
              "  .colab-df-quickchart {\n",
              "    background-color: var(--bg-color);\n",
              "    border: none;\n",
              "    border-radius: 50%;\n",
              "    cursor: pointer;\n",
              "    display: none;\n",
              "    fill: var(--fill-color);\n",
              "    height: 32px;\n",
              "    padding: 0;\n",
              "    width: 32px;\n",
              "  }\n",
              "\n",
              "  .colab-df-quickchart:hover {\n",
              "    background-color: var(--hover-bg-color);\n",
              "    box-shadow: 0 1px 2px rgba(60, 64, 67, 0.3), 0 1px 3px 1px rgba(60, 64, 67, 0.15);\n",
              "    fill: var(--button-hover-fill-color);\n",
              "  }\n",
              "\n",
              "  .colab-df-quickchart-complete:disabled,\n",
              "  .colab-df-quickchart-complete:disabled:hover {\n",
              "    background-color: var(--disabled-bg-color);\n",
              "    fill: var(--disabled-fill-color);\n",
              "    box-shadow: none;\n",
              "  }\n",
              "\n",
              "  .colab-df-spinner {\n",
              "    border: 2px solid var(--fill-color);\n",
              "    border-color: transparent;\n",
              "    border-bottom-color: var(--fill-color);\n",
              "    animation:\n",
              "      spin 1s steps(1) infinite;\n",
              "  }\n",
              "\n",
              "  @keyframes spin {\n",
              "    0% {\n",
              "      border-color: transparent;\n",
              "      border-bottom-color: var(--fill-color);\n",
              "      border-left-color: var(--fill-color);\n",
              "    }\n",
              "    20% {\n",
              "      border-color: transparent;\n",
              "      border-left-color: var(--fill-color);\n",
              "      border-top-color: var(--fill-color);\n",
              "    }\n",
              "    30% {\n",
              "      border-color: transparent;\n",
              "      border-left-color: var(--fill-color);\n",
              "      border-top-color: var(--fill-color);\n",
              "      border-right-color: var(--fill-color);\n",
              "    }\n",
              "    40% {\n",
              "      border-color: transparent;\n",
              "      border-right-color: var(--fill-color);\n",
              "      border-top-color: var(--fill-color);\n",
              "    }\n",
              "    60% {\n",
              "      border-color: transparent;\n",
              "      border-right-color: var(--fill-color);\n",
              "    }\n",
              "    80% {\n",
              "      border-color: transparent;\n",
              "      border-right-color: var(--fill-color);\n",
              "      border-bottom-color: var(--fill-color);\n",
              "    }\n",
              "    90% {\n",
              "      border-color: transparent;\n",
              "      border-bottom-color: var(--fill-color);\n",
              "    }\n",
              "  }\n",
              "</style>\n",
              "\n",
              "  <script>\n",
              "    async function quickchart(key) {\n",
              "      const quickchartButtonEl =\n",
              "        document.querySelector('#' + key + ' button');\n",
              "      quickchartButtonEl.disabled = true;  // To prevent multiple clicks.\n",
              "      quickchartButtonEl.classList.add('colab-df-spinner');\n",
              "      try {\n",
              "        const charts = await google.colab.kernel.invokeFunction(\n",
              "            'suggestCharts', [key], {});\n",
              "      } catch (error) {\n",
              "        console.error('Error during call to suggestCharts:', error);\n",
              "      }\n",
              "      quickchartButtonEl.classList.remove('colab-df-spinner');\n",
              "      quickchartButtonEl.classList.add('colab-df-quickchart-complete');\n",
              "    }\n",
              "    (() => {\n",
              "      let quickchartButtonEl =\n",
              "        document.querySelector('#df-2c5c4436-bff2-47b8-8eeb-85cc7130b770 button');\n",
              "      quickchartButtonEl.style.display =\n",
              "        google.colab.kernel.accessAllowed ? 'block' : 'none';\n",
              "    })();\n",
              "  </script>\n",
              "</div>\n",
              "    </div>\n",
              "  </div>\n"
            ]
          },
          "metadata": {},
          "execution_count": 45
        }
      ]
    },
    {
      "cell_type": "code",
      "source": [
        "def load_and_preprocess_image(image_path, label):\n",
        "    image = tf.io.read_file(image_path)\n",
        "    image = tf.image.decode_png(image, channels=3)\n",
        "    image = image / 255\n",
        "    return image, label\n",
        "\n",
        "def convert_dataframe_into_dataset(df):\n",
        "  dataset = tf.data.Dataset.from_tensor_slices((df[\"filenames\"], df[\"labels\"]))\n",
        "  return dataset.map(load_and_preprocess_image)\n"
      ],
      "metadata": {
        "id": "HeerbsaX2ROp"
      },
      "execution_count": null,
      "outputs": []
    },
    {
      "cell_type": "code",
      "source": [
        "clients_datasets = [convert_dataframe_into_dataset(client_df) for client_df in clients_dfs]"
      ],
      "metadata": {
        "id": "035Kddx41pr5"
      },
      "execution_count": null,
      "outputs": []
    },
    {
      "cell_type": "code",
      "source": [
        "NUM_EPOCHS = 5\n",
        "BATCH_SIZE = 20\n",
        "SHUFFLE_BUFFER = 100\n",
        "PREFETCH_BUFFER = 10\n",
        "\n",
        "def preprocess(dataset):\n",
        "\n",
        "  def batch_format_fn(element1, element2):\n",
        "    \"\"\"Flatten a batch `pixels` and return the features as an `OrderedDict`.\"\"\"\n",
        "    return collections.OrderedDict(\n",
        "        x=element1,\n",
        "        y=element2)\n",
        "\n",
        "  return dataset.repeat(NUM_EPOCHS).shuffle(SHUFFLE_BUFFER, seed=1).batch(\n",
        "      BATCH_SIZE).map(batch_format_fn).prefetch(PREFETCH_BUFFER)"
      ],
      "metadata": {
        "id": "6zyLND_33bqb"
      },
      "execution_count": null,
      "outputs": []
    },
    {
      "cell_type": "code",
      "source": [
        "preprocessed_example_dataset = preprocess(clients_datasets[0])\n",
        "\n",
        "sample_batch = tf.nest.map_structure(lambda x: x.numpy(),\n",
        "                                     next(iter(preprocessed_example_dataset)))"
      ],
      "metadata": {
        "id": "FO226ekM6nHB"
      },
      "execution_count": null,
      "outputs": []
    },
    {
      "cell_type": "code",
      "source": [
        "def make_federated_data(clients_datasets, sample_clients):\n",
        "  return [\n",
        "      preprocess(clients_datasets[x])\n",
        "      for x in sample_clients\n",
        "  ]"
      ],
      "metadata": {
        "id": "P45NDpmu36ZX"
      },
      "execution_count": null,
      "outputs": []
    },
    {
      "cell_type": "code",
      "source": [
        "sample_clients = range(NUM_CLIENTS)\n",
        "\n",
        "federated_train_data = make_federated_data(clients_datasets, sample_clients)\n",
        "\n",
        "print(f'Number of client datasets: {len(federated_train_data)}')\n",
        "print(f'First dataset: {federated_train_data[0]}')"
      ],
      "metadata": {
        "colab": {
          "base_uri": "https://localhost:8080/"
        },
        "id": "K8qcBrYx4bvX",
        "outputId": "b3537134-664e-44d6-f130-405b1667e128"
      },
      "execution_count": null,
      "outputs": [
        {
          "output_type": "stream",
          "name": "stdout",
          "text": [
            "Number of client datasets: 2\n",
            "First dataset: <_PrefetchDataset element_spec=OrderedDict([('x', TensorSpec(shape=(None, None, None, 3), dtype=tf.float32, name=None)), ('y', TensorSpec(shape=(None,), dtype=tf.int64, name=None))])>\n"
          ]
        }
      ]
    },
    {
      "cell_type": "code",
      "source": [
        "def create_keras_model():\n",
        "  base_model= tf.keras.applications.mobilenet_v2.MobileNetV2(include_top=False,weights='imagenet',input_shape=(224,224,3))\n",
        "  base_model.trainable = False\n",
        "\n",
        "  x = base_model.output\n",
        "  x = GlobalAveragePooling2D()(x)\n",
        "  x = BatchNormalization()(x)\n",
        "  predictions = Dense(4, activation= \"softmax\")(x)\n",
        "  return Model(inputs=base_model.input, outputs=predictions)"
      ],
      "metadata": {
        "id": "VvqatOKf5MtZ"
      },
      "execution_count": null,
      "outputs": []
    },
    {
      "cell_type": "code",
      "source": [
        "def model_fn():\n",
        "  # We _must_ create a new model here, and _not_ capture it from an external\n",
        "  # scope. TFF will call this within different graph contexts.\n",
        "  keras_model = create_keras_model()\n",
        "  return tff.learning.models.from_keras_model(\n",
        "      keras_model,\n",
        "      input_spec=preprocessed_example_dataset.element_spec,\n",
        "      loss=tf.keras.losses.SparseCategoricalCrossentropy(),\n",
        "      metrics=[tf.keras.metrics.SparseCategoricalAccuracy()])"
      ],
      "metadata": {
        "id": "Bssvf22c6EFG"
      },
      "execution_count": null,
      "outputs": []
    },
    {
      "cell_type": "code",
      "source": [
        "training_process = tff.learning.algorithms.build_weighted_fed_avg(\n",
        "    model_fn,\n",
        "    client_optimizer_fn=lambda: tf.keras.optimizers.SGD(learning_rate=0.02),\n",
        "    server_optimizer_fn=lambda: tf.keras.optimizers.SGD(learning_rate=1.0))"
      ],
      "metadata": {
        "colab": {
          "base_uri": "https://localhost:8080/"
        },
        "id": "E30LKTK668O2",
        "outputId": "3a1c06e8-a800-4f1a-a081-2008eb727f98"
      },
      "execution_count": null,
      "outputs": [
        {
          "output_type": "stream",
          "name": "stderr",
          "text": [
            "/usr/local/lib/python3.10/dist-packages/tensorflow_federated/python/learning/models/keras_utils.py:203: UserWarning: Batch Normalization contains non-trainable variables that won't be updated during the training. Consider using Group Normalization instead.\n",
            "  warnings.warn(\n"
          ]
        }
      ]
    },
    {
      "cell_type": "code",
      "source": [
        "print(training_process.initialize.type_signature.formatted_representation())"
      ],
      "metadata": {
        "colab": {
          "base_uri": "https://localhost:8080/"
        },
        "id": "ID5Zo3K17FC_",
        "outputId": "25f35c5b-d0e7-46d1-8d69-5ee1bc519da1"
      },
      "execution_count": null,
      "outputs": [
        {
          "output_type": "stream",
          "name": "stdout",
          "text": [
            "( -> <\n",
            "  global_model_weights=<\n",
            "    trainable=<\n",
            "      float32[1280],\n",
            "      float32[1280],\n",
            "      float32[1280,4],\n",
            "      float32[4]\n",
            "    >,\n",
            "    non_trainable=<\n",
            "      float32[3,3,3,32],\n",
            "      float32[32],\n",
            "      float32[32],\n",
            "      float32[32],\n",
            "      float32[32],\n",
            "      float32[3,3,32,1],\n",
            "      float32[32],\n",
            "      float32[32],\n",
            "      float32[32],\n",
            "      float32[32],\n",
            "      float32[1,1,32,16],\n",
            "      float32[16],\n",
            "      float32[16],\n",
            "      float32[16],\n",
            "      float32[16],\n",
            "      float32[1,1,16,96],\n",
            "      float32[96],\n",
            "      float32[96],\n",
            "      float32[96],\n",
            "      float32[96],\n",
            "      float32[3,3,96,1],\n",
            "      float32[96],\n",
            "      float32[96],\n",
            "      float32[96],\n",
            "      float32[96],\n",
            "      float32[1,1,96,24],\n",
            "      float32[24],\n",
            "      float32[24],\n",
            "      float32[24],\n",
            "      float32[24],\n",
            "      float32[1,1,24,144],\n",
            "      float32[144],\n",
            "      float32[144],\n",
            "      float32[144],\n",
            "      float32[144],\n",
            "      float32[3,3,144,1],\n",
            "      float32[144],\n",
            "      float32[144],\n",
            "      float32[144],\n",
            "      float32[144],\n",
            "      float32[1,1,144,24],\n",
            "      float32[24],\n",
            "      float32[24],\n",
            "      float32[24],\n",
            "      float32[24],\n",
            "      float32[1,1,24,144],\n",
            "      float32[144],\n",
            "      float32[144],\n",
            "      float32[144],\n",
            "      float32[144],\n",
            "      float32[3,3,144,1],\n",
            "      float32[144],\n",
            "      float32[144],\n",
            "      float32[144],\n",
            "      float32[144],\n",
            "      float32[1,1,144,32],\n",
            "      float32[32],\n",
            "      float32[32],\n",
            "      float32[32],\n",
            "      float32[32],\n",
            "      float32[1,1,32,192],\n",
            "      float32[192],\n",
            "      float32[192],\n",
            "      float32[192],\n",
            "      float32[192],\n",
            "      float32[3,3,192,1],\n",
            "      float32[192],\n",
            "      float32[192],\n",
            "      float32[192],\n",
            "      float32[192],\n",
            "      float32[1,1,192,32],\n",
            "      float32[32],\n",
            "      float32[32],\n",
            "      float32[32],\n",
            "      float32[32],\n",
            "      float32[1,1,32,192],\n",
            "      float32[192],\n",
            "      float32[192],\n",
            "      float32[192],\n",
            "      float32[192],\n",
            "      float32[3,3,192,1],\n",
            "      float32[192],\n",
            "      float32[192],\n",
            "      float32[192],\n",
            "      float32[192],\n",
            "      float32[1,1,192,32],\n",
            "      float32[32],\n",
            "      float32[32],\n",
            "      float32[32],\n",
            "      float32[32],\n",
            "      float32[1,1,32,192],\n",
            "      float32[192],\n",
            "      float32[192],\n",
            "      float32[192],\n",
            "      float32[192],\n",
            "      float32[3,3,192,1],\n",
            "      float32[192],\n",
            "      float32[192],\n",
            "      float32[192],\n",
            "      float32[192],\n",
            "      float32[1,1,192,64],\n",
            "      float32[64],\n",
            "      float32[64],\n",
            "      float32[64],\n",
            "      float32[64],\n",
            "      float32[1,1,64,384],\n",
            "      float32[384],\n",
            "      float32[384],\n",
            "      float32[384],\n",
            "      float32[384],\n",
            "      float32[3,3,384,1],\n",
            "      float32[384],\n",
            "      float32[384],\n",
            "      float32[384],\n",
            "      float32[384],\n",
            "      float32[1,1,384,64],\n",
            "      float32[64],\n",
            "      float32[64],\n",
            "      float32[64],\n",
            "      float32[64],\n",
            "      float32[1,1,64,384],\n",
            "      float32[384],\n",
            "      float32[384],\n",
            "      float32[384],\n",
            "      float32[384],\n",
            "      float32[3,3,384,1],\n",
            "      float32[384],\n",
            "      float32[384],\n",
            "      float32[384],\n",
            "      float32[384],\n",
            "      float32[1,1,384,64],\n",
            "      float32[64],\n",
            "      float32[64],\n",
            "      float32[64],\n",
            "      float32[64],\n",
            "      float32[1,1,64,384],\n",
            "      float32[384],\n",
            "      float32[384],\n",
            "      float32[384],\n",
            "      float32[384],\n",
            "      float32[3,3,384,1],\n",
            "      float32[384],\n",
            "      float32[384],\n",
            "      float32[384],\n",
            "      float32[384],\n",
            "      float32[1,1,384,64],\n",
            "      float32[64],\n",
            "      float32[64],\n",
            "      float32[64],\n",
            "      float32[64],\n",
            "      float32[1,1,64,384],\n",
            "      float32[384],\n",
            "      float32[384],\n",
            "      float32[384],\n",
            "      float32[384],\n",
            "      float32[3,3,384,1],\n",
            "      float32[384],\n",
            "      float32[384],\n",
            "      float32[384],\n",
            "      float32[384],\n",
            "      float32[1,1,384,96],\n",
            "      float32[96],\n",
            "      float32[96],\n",
            "      float32[96],\n",
            "      float32[96],\n",
            "      float32[1,1,96,576],\n",
            "      float32[576],\n",
            "      float32[576],\n",
            "      float32[576],\n",
            "      float32[576],\n",
            "      float32[3,3,576,1],\n",
            "      float32[576],\n",
            "      float32[576],\n",
            "      float32[576],\n",
            "      float32[576],\n",
            "      float32[1,1,576,96],\n",
            "      float32[96],\n",
            "      float32[96],\n",
            "      float32[96],\n",
            "      float32[96],\n",
            "      float32[1,1,96,576],\n",
            "      float32[576],\n",
            "      float32[576],\n",
            "      float32[576],\n",
            "      float32[576],\n",
            "      float32[3,3,576,1],\n",
            "      float32[576],\n",
            "      float32[576],\n",
            "      float32[576],\n",
            "      float32[576],\n",
            "      float32[1,1,576,96],\n",
            "      float32[96],\n",
            "      float32[96],\n",
            "      float32[96],\n",
            "      float32[96],\n",
            "      float32[1,1,96,576],\n",
            "      float32[576],\n",
            "      float32[576],\n",
            "      float32[576],\n",
            "      float32[576],\n",
            "      float32[3,3,576,1],\n",
            "      float32[576],\n",
            "      float32[576],\n",
            "      float32[576],\n",
            "      float32[576],\n",
            "      float32[1,1,576,160],\n",
            "      float32[160],\n",
            "      float32[160],\n",
            "      float32[160],\n",
            "      float32[160],\n",
            "      float32[1,1,160,960],\n",
            "      float32[960],\n",
            "      float32[960],\n",
            "      float32[960],\n",
            "      float32[960],\n",
            "      float32[3,3,960,1],\n",
            "      float32[960],\n",
            "      float32[960],\n",
            "      float32[960],\n",
            "      float32[960],\n",
            "      float32[1,1,960,160],\n",
            "      float32[160],\n",
            "      float32[160],\n",
            "      float32[160],\n",
            "      float32[160],\n",
            "      float32[1,1,160,960],\n",
            "      float32[960],\n",
            "      float32[960],\n",
            "      float32[960],\n",
            "      float32[960],\n",
            "      float32[3,3,960,1],\n",
            "      float32[960],\n",
            "      float32[960],\n",
            "      float32[960],\n",
            "      float32[960],\n",
            "      float32[1,1,960,160],\n",
            "      float32[160],\n",
            "      float32[160],\n",
            "      float32[160],\n",
            "      float32[160],\n",
            "      float32[1,1,160,960],\n",
            "      float32[960],\n",
            "      float32[960],\n",
            "      float32[960],\n",
            "      float32[960],\n",
            "      float32[3,3,960,1],\n",
            "      float32[960],\n",
            "      float32[960],\n",
            "      float32[960],\n",
            "      float32[960],\n",
            "      float32[1,1,960,320],\n",
            "      float32[320],\n",
            "      float32[320],\n",
            "      float32[320],\n",
            "      float32[320],\n",
            "      float32[1,1,320,1280],\n",
            "      float32[1280],\n",
            "      float32[1280],\n",
            "      float32[1280],\n",
            "      float32[1280],\n",
            "      float32[1280],\n",
            "      float32[1280]\n",
            "    >\n",
            "  >,\n",
            "  distributor=<>,\n",
            "  client_work=<>,\n",
            "  aggregator=<\n",
            "    value_sum_process=<>,\n",
            "    weight_sum_process=<>\n",
            "  >,\n",
            "  finalizer=<\n",
            "    int64,\n",
            "    float32[1280],\n",
            "    float32[1280],\n",
            "    float32[1280,4],\n",
            "    float32[4]\n",
            "  >\n",
            ">@SERVER)\n"
          ]
        }
      ]
    },
    {
      "cell_type": "code",
      "source": [
        "train_state = training_process.initialize()"
      ],
      "metadata": {
        "id": "tbMyIakX7Hq3"
      },
      "execution_count": null,
      "outputs": []
    },
    {
      "cell_type": "code",
      "source": [
        "result = training_process.next(train_state, federated_train_data)\n",
        "train_state = result.state\n",
        "train_metrics = result.metrics\n",
        "print('round  1, metrics={}'.format(train_metrics))"
      ],
      "metadata": {
        "colab": {
          "base_uri": "https://localhost:8080/"
        },
        "id": "eJGX-k2o7QhA",
        "outputId": "65314b9a-64bc-4712-df70-6728f99244ed"
      },
      "execution_count": null,
      "outputs": [
        {
          "output_type": "stream",
          "name": "stdout",
          "text": [
            "round  1, metrics=OrderedDict([('distributor', ()), ('client_work', OrderedDict([('train', OrderedDict([('sparse_categorical_accuracy', 0.2883721), ('loss', 1.3822216), ('num_examples', 5160), ('num_batches', 259)]))])), ('aggregator', OrderedDict([('mean_value', ()), ('mean_weight', ())])), ('finalizer', OrderedDict([('update_non_finite', 0)]))])\n"
          ]
        }
      ]
    }
  ]
}